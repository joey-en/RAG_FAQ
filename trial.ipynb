{
 "cells": [
  {
   "cell_type": "code",
   "execution_count": 33,
   "id": "c2e97d76",
   "metadata": {},
   "outputs": [],
   "source": [
    "# %pip install -r requirements.txt"
   ]
  },
  {
   "cell_type": "code",
   "execution_count": null,
   "id": "8b439e13",
   "metadata": {},
   "outputs": [],
   "source": [
    "from langchain.document_loaders import TextLoader\n",
    "from langchain.chat_models import ChatOpenAI\n",
    "from langchain.chains import RetrievalQA"
   ]
  },
  {
   "cell_type": "code",
   "execution_count": 35,
   "id": "1c6db3db",
   "metadata": {},
   "outputs": [
    {
     "name": "stderr",
     "output_type": "stream",
     "text": [
      "<>:3: SyntaxWarning: invalid escape sequence '\\S'\n",
      "<>:3: SyntaxWarning: invalid escape sequence '\\S'\n",
      "C:\\Users\\Joy Anne\\AppData\\Local\\Temp\\ipykernel_7020\\225404614.py:3: SyntaxWarning: invalid escape sequence '\\S'\n",
      "  loader = PyPDFLoader(\"data\\Sakina BP.pdf\")\n"
     ]
    }
   ],
   "source": [
    "# 2. Load your business proposal\n",
    "from langchain.document_loaders import PyPDFLoader\n",
    "loader = PyPDFLoader(\"data\\Sakina BP.pdf\") \n",
    "documents = loader.load()"
   ]
  },
  {
   "cell_type": "code",
   "execution_count": 36,
   "id": "2ea6dca0",
   "metadata": {},
   "outputs": [],
   "source": [
    "# 3. Split text into chunks\n",
    "from langchain.text_splitter import CharacterTextSplitter\n",
    "splitter = CharacterTextSplitter(chunk_size=800, chunk_overlap=100)\n",
    "docs = splitter.split_documents(documents)"
   ]
  },
  {
   "cell_type": "code",
   "execution_count": 37,
   "id": "0b6fe80f",
   "metadata": {},
   "outputs": [],
   "source": [
    "# 4. Generate embeddings\n",
    "from langchain.embeddings import HuggingFaceEmbeddings\n",
    "embedding_model = HuggingFaceEmbeddings(model_name=\"all-MiniLM-L6-v2\")  # Lightweight"
   ]
  },
  {
   "cell_type": "code",
   "execution_count": 38,
   "id": "ae09349d",
   "metadata": {},
   "outputs": [],
   "source": [
    "# 5. Store in Chroma DB\n",
    "from langchain.vectorstores import Chroma\n",
    "vectorstore = Chroma.from_documents(docs, embedding_model)"
   ]
  },
  {
   "cell_type": "code",
   "execution_count": 39,
   "id": "5a3d88ac",
   "metadata": {},
   "outputs": [],
   "source": [
    "# 6. Setup retriever\n",
    "retriever = vectorstore.as_retriever()"
   ]
  },
  {
   "cell_type": "code",
   "execution_count": 40,
   "id": "bf8068ea",
   "metadata": {},
   "outputs": [
    {
     "name": "stderr",
     "output_type": "stream",
     "text": [
      "Device set to use cpu\n"
     ]
    }
   ],
   "source": [
    "# 7. Setup LLM for generation\n",
    "from transformers import pipeline\n",
    "\n",
    "qa_pipeline = pipeline(\n",
    "    \"question-answering\",\n",
    "    model=\"deepset/roberta-base-squad2\",\n",
    "    tokenizer=\"deepset/roberta-base-squad2\"\n",
    ")"
   ]
  },
  {
   "cell_type": "code",
   "execution_count": 41,
   "id": "e12763e7",
   "metadata": {},
   "outputs": [
    {
     "name": "stdout",
     "output_type": "stream",
     "text": [
      "[Document(metadata={'source': 'data\\\\Sakina BP.pdf', 'creator': 'Microsoft® Word for Microsoft 365', 'creationdate': '2024-11-12T17:02:46+03:00', 'total_pages': 3, 'page': 1, 'producer': 'Microsoft® Word for Microsoft 365', 'page_label': '2', 'author': 'wahiba aburas', 'moddate': '2024-11-12T17:02:46+03:00'}, page_content='2) Provider Augmentation:  AI-driven tools such as SOAP note generation, session \\nsummaries, and goal -directed interventions to assist mental health professionals in \\ndelivering personalized care and improving clinical efficiency. The platform also helps to \\nreduce administrative burd en, allowing providers to focus more on emotional care.  \\n \\n3) Cultural Adaptation: Sakina leverages Arabic-centric and dialect -sensitive AI powered \\nby a culture-focused knowledge graph to ensure the platform is aligned with the regional \\ncontext. This enhances provider-patient engagement and ensures culturally competent care. \\n \\n4) Research & Data Organization:  Sakina will serve as an information hub, collecting, \\norganizing, and making mental health data readily available for research. This will not only \\nadvance the field by addressing the scarcity of data but also foster innovation in mental \\nhealth services. By making this data accessible and anonymized, Sakina supports research \\nefforts while maintaining confidentiality. \\n \\n5) Impact on Mental Health Research & Innovation:  With a well -organized database, \\nSakina will drive mental health research and discoveries, contributing to evidence -based \\npractices and the development of new, innovative mental health solutions. The more data \\nwe gather, the better we can understand and im prove mental health care. Sakina will \\nprovide insights into trends, treatment efficacy, and patient outcomes, enabling continuous \\nimprovement in services. \\n \\nBusiness Model: \\nSakina operates under a sustainable and scalable revenue model that ensures accessibility for \\nclinics and hospitals of all sizes: \\nB2B Partnerships:  Subscription-based services tailored for hospitals and clinics, with \\ntiered pricing to accommodate different institution needs. \\n \\nOpen Access Resources: Free educational resources to increase mental health awareness \\nand promote community engagement. \\n \\nPremium Features: Advanced analytics, customizable tools, and comprehensive solutions \\nfor institutions seeking a more robust platform to support mental health services.'), Document(metadata={'page': 1, 'creationdate': '2024-11-12T17:02:46+03:00', 'producer': 'Microsoft® Word for Microsoft 365', 'source': 'data\\\\Sakina BP.pdf', 'total_pages': 3, 'page_label': '2', 'author': 'wahiba aburas', 'moddate': '2024-11-12T17:02:46+03:00', 'creator': 'Microsoft® Word for Microsoft 365'}, page_content='2) Provider Augmentation:  AI-driven tools such as SOAP note generation, session \\nsummaries, and goal -directed interventions to assist mental health professionals in \\ndelivering personalized care and improving clinical efficiency. The platform also helps to \\nreduce administrative burd en, allowing providers to focus more on emotional care.  \\n \\n3) Cultural Adaptation: Sakina leverages Arabic-centric and dialect -sensitive AI powered \\nby a culture-focused knowledge graph to ensure the platform is aligned with the regional \\ncontext. This enhances provider-patient engagement and ensures culturally competent care. \\n \\n4) Research & Data Organization:  Sakina will serve as an information hub, collecting, \\norganizing, and making mental health data readily available for research. This will not only \\nadvance the field by addressing the scarcity of data but also foster innovation in mental \\nhealth services. By making this data accessible and anonymized, Sakina supports research \\nefforts while maintaining confidentiality. \\n \\n5) Impact on Mental Health Research & Innovation:  With a well -organized database, \\nSakina will drive mental health research and discoveries, contributing to evidence -based \\npractices and the development of new, innovative mental health solutions. The more data \\nwe gather, the better we can understand and im prove mental health care. Sakina will \\nprovide insights into trends, treatment efficacy, and patient outcomes, enabling continuous \\nimprovement in services. \\n \\nBusiness Model: \\nSakina operates under a sustainable and scalable revenue model that ensures accessibility for \\nclinics and hospitals of all sizes: \\nB2B Partnerships:  Subscription-based services tailored for hospitals and clinics, with \\ntiered pricing to accommodate different institution needs. \\n \\nOpen Access Resources: Free educational resources to increase mental health awareness \\nand promote community engagement. \\n \\nPremium Features: Advanced analytics, customizable tools, and comprehensive solutions \\nfor institutions seeking a more robust platform to support mental health services.'), Document(metadata={'total_pages': 3, 'creationdate': '2024-11-12T17:02:46+03:00', 'page_label': '1', 'author': 'wahiba aburas', 'page': 0, 'source': 'data\\\\Sakina BP.pdf', 'moddate': '2024-11-12T17:02:46+03:00', 'producer': 'Microsoft® Word for Microsoft 365', 'creator': 'Microsoft® Word for Microsoft 365'}, page_content=\"Sakina: AI-Powered Mental Health Platform \\nEmpowering Providers and Shaping the Future of Mental Health Care \\n \\n \\n \\nExecutive Summary: \\nSakina is an AI -driven platform designed to revolutionize mental health services by equipping \\nhealthcare providers with advanced tools that streamline patient care, enhance provider efficiency, \\nand foster research and innovation. The platform integrates cu tting-edge AI for documentation, \\nsummarization, recommendation, and evaluation, while also emphasizing cultural relevance and \\nconfidentiality. Based at Qatar Science & Technology Park (QSTP) and registered with the Qatar \\nFinancial Centre (QFC), Sakina is aligned with Qatar's Vision 2030,  which seeks to digitalize \\nhealthcare and drive innovation. Sakina is committed to supporting mental health providers in \\nQatar and beyond, contributing to improved patient outcomes and groundbreaking advancements \\nin mental health research. \\n \\nProblem Statement: \\nBarriers to effective mental health care, including limited provider availability, stigma, and high \\ncosts, often hinder access to the support needed. Mental health in Qatar is a critical issue, with one \\nin five individuals facing challenges. Mental health services worldwide, and in particular in regions \\nlike MENA, have suffered from a scarcity of information, hindering advancements in the field. \\nSakina seeks to address these issues by providing a digital solution that empowers providers and \\nenables data-driven decision-making, making mental health care more access ible, effective, and \\nresearch-oriented. \\n \\nSolution Overview: \\nSakina offers a comprehensive suite of features designed to enhance both patient engagement and \\nprovider efficiency, while supporting research and innovation: \\n1) Patient Engagement:  Tools for symptom tracking, mood assessments, and culturally \\nrelevant therapeutic support, including cognitive -behavioral therapy (CBT). Sakina's \\npatient-centric approach allows providers to engage with patients effectively, incorporating \\ncultural nuances  that make the care process more relatable and effective.\"), Document(metadata={'source': 'data\\\\Sakina BP.pdf', 'total_pages': 3, 'author': 'wahiba aburas', 'moddate': '2024-11-12T17:02:46+03:00', 'creationdate': '2024-11-12T17:02:46+03:00', 'creator': 'Microsoft® Word for Microsoft 365', 'page': 0, 'page_label': '1', 'producer': 'Microsoft® Word for Microsoft 365'}, page_content=\"Sakina: AI-Powered Mental Health Platform \\nEmpowering Providers and Shaping the Future of Mental Health Care \\n \\n \\n \\nExecutive Summary: \\nSakina is an AI -driven platform designed to revolutionize mental health services by equipping \\nhealthcare providers with advanced tools that streamline patient care, enhance provider efficiency, \\nand foster research and innovation. The platform integrates cu tting-edge AI for documentation, \\nsummarization, recommendation, and evaluation, while also emphasizing cultural relevance and \\nconfidentiality. Based at Qatar Science & Technology Park (QSTP) and registered with the Qatar \\nFinancial Centre (QFC), Sakina is aligned with Qatar's Vision 2030,  which seeks to digitalize \\nhealthcare and drive innovation. Sakina is committed to supporting mental health providers in \\nQatar and beyond, contributing to improved patient outcomes and groundbreaking advancements \\nin mental health research. \\n \\nProblem Statement: \\nBarriers to effective mental health care, including limited provider availability, stigma, and high \\ncosts, often hinder access to the support needed. Mental health in Qatar is a critical issue, with one \\nin five individuals facing challenges. Mental health services worldwide, and in particular in regions \\nlike MENA, have suffered from a scarcity of information, hindering advancements in the field. \\nSakina seeks to address these issues by providing a digital solution that empowers providers and \\nenables data-driven decision-making, making mental health care more access ible, effective, and \\nresearch-oriented. \\n \\nSolution Overview: \\nSakina offers a comprehensive suite of features designed to enhance both patient engagement and \\nprovider efficiency, while supporting research and innovation: \\n1) Patient Engagement:  Tools for symptom tracking, mood assessments, and culturally \\nrelevant therapeutic support, including cognitive -behavioral therapy (CBT). Sakina's \\npatient-centric approach allows providers to engage with patients effectively, incorporating \\ncultural nuances  that make the care process more relatable and effective.\")]\n",
      "Answer: sustainable and scalable revenue model\n"
     ]
    }
   ],
   "source": [
    "context= \"You are a friendly receptionist for the Sakina Website. You will answer each query with 2-3 brief sentences.\"\n",
    "query = \"What is Sakina?\"\n",
    "retrieved_docs = retriever.get_relevant_documents(query)\n",
    "print(retrieved_docs)\n",
    "\n",
    "context = \" \".join([doc.page_content for doc in retrieved_docs[:2]])\n",
    "\n",
    "# 8. Use local model to answer\n",
    "result = qa_pipeline(question=query, context=context)\n",
    "print(\"Answer:\", result['answer'])"
   ]
  }
 ],
 "metadata": {
  "kernelspec": {
   "display_name": "Python 3",
   "language": "python",
   "name": "python3"
  },
  "language_info": {
   "codemirror_mode": {
    "name": "ipython",
    "version": 3
   },
   "file_extension": ".py",
   "mimetype": "text/x-python",
   "name": "python",
   "nbconvert_exporter": "python",
   "pygments_lexer": "ipython3",
   "version": "3.12.1"
  }
 },
 "nbformat": 4,
 "nbformat_minor": 5
}
